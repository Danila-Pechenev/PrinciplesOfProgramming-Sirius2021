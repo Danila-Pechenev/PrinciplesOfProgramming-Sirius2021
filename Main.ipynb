{
 "cells": [
  {
   "cell_type": "code",
   "execution_count": 119,
   "metadata": {
    "execution": {
     "iopub.execute_input": "2021-01-13T09:00:40.366860Z",
     "iopub.status.busy": "2021-01-13T09:00:40.366860Z",
     "iopub.status.idle": "2021-01-13T09:00:40.369897Z",
     "shell.execute_reply": "2021-01-13T09:00:40.369897Z",
     "shell.execute_reply.started": "2021-01-13T09:00:40.366860Z"
    }
   },
   "outputs": [],
   "source": [
    "# # Раскомментировать при необходимости\n",
    "# !pip install pymorphy2\n",
    "# !pip install pymorphy2-dicts\n",
    "# !pip install DAWG-Python"
   ]
  },
  {
   "cell_type": "code",
   "execution_count": 120,
   "metadata": {
    "execution": {
     "iopub.execute_input": "2021-01-13T09:00:40.592470Z",
     "iopub.status.busy": "2021-01-13T09:00:40.591474Z",
     "iopub.status.idle": "2021-01-13T09:00:40.602415Z",
     "shell.execute_reply": "2021-01-13T09:00:40.599411Z",
     "shell.execute_reply.started": "2021-01-13T09:00:40.592470Z"
    }
   },
   "outputs": [],
   "source": [
    "import pymorphy2\n",
    "import re"
   ]
  },
  {
   "cell_type": "code",
   "execution_count": 121,
   "metadata": {
    "execution": {
     "iopub.execute_input": "2021-01-13T09:00:40.910420Z",
     "iopub.status.busy": "2021-01-13T09:00:40.909420Z",
     "iopub.status.idle": "2021-01-13T09:00:41.146438Z",
     "shell.execute_reply": "2021-01-13T09:00:41.145528Z",
     "shell.execute_reply.started": "2021-01-13T09:00:40.910420Z"
    }
   },
   "outputs": [],
   "source": [
    "morph = pymorphy2.MorphAnalyzer()"
   ]
  },
  {
   "cell_type": "code",
   "execution_count": 122,
   "metadata": {
    "execution": {
     "iopub.execute_input": "2021-01-13T09:00:41.240817Z",
     "iopub.status.busy": "2021-01-13T09:00:41.239815Z",
     "iopub.status.idle": "2021-01-13T09:00:41.247780Z",
     "shell.execute_reply": "2021-01-13T09:00:41.246806Z",
     "shell.execute_reply.started": "2021-01-13T09:00:41.240817Z"
    }
   },
   "outputs": [],
   "source": [
    "# Тестирующая функция №1 (10 тестов)\n",
    "def test_form_of_word():\n",
    "    assert not is_form_of_word('игра', 'Игрушки')\n",
    "    assert is_form_of_word('игрушек', 'Игрушки')\n",
    "    assert is_form_of_word('Игрушек', 'Игрушки')\n",
    "    assert is_form_of_word('решать', 'решаю')\n",
    "    assert is_form_of_word('читал', 'читавшая')\n",
    "    assert not is_form_of_word('примерчик', 'пример')\n",
    "    assert is_form_of_word('примеров', 'примерами')\n",
    "    assert is_form_of_word('она', 'ею')\n",
    "    assert is_form_of_word('расти', 'растущий')\n",
    "    assert not is_form_of_word('программировать', 'программами')"
   ]
  },
  {
   "cell_type": "code",
   "execution_count": 123,
   "metadata": {
    "execution": {
     "iopub.execute_input": "2021-01-13T09:00:41.579804Z",
     "iopub.status.busy": "2021-01-13T09:00:41.578852Z",
     "iopub.status.idle": "2021-01-13T09:00:41.591798Z",
     "shell.execute_reply": "2021-01-13T09:00:41.588804Z",
     "shell.execute_reply.started": "2021-01-13T09:00:41.578852Z"
    }
   },
   "outputs": [],
   "source": [
    "# Проверка, является ли одно слово формой другого\n",
    "def is_form_of_word(form: str, word: str) -> bool: \n",
    "    if morph.parse(form)[0][2] == morph.parse(word)[0][2]:\n",
    "        return True\n",
    "    else:\n",
    "        return False"
   ]
  },
  {
   "cell_type": "code",
   "execution_count": 124,
   "metadata": {
    "execution": {
     "iopub.execute_input": "2021-01-13T09:00:41.919767Z",
     "iopub.status.busy": "2021-01-13T09:00:41.918767Z",
     "iopub.status.idle": "2021-01-13T09:00:41.939764Z",
     "shell.execute_reply": "2021-01-13T09:00:41.936767Z",
     "shell.execute_reply.started": "2021-01-13T09:00:41.919767Z"
    }
   },
   "outputs": [],
   "source": [
    "# Тестируем\n",
    "test_form_of_word()"
   ]
  },
  {
   "cell_type": "code",
   "execution_count": 125,
   "metadata": {
    "execution": {
     "iopub.execute_input": "2021-01-13T09:00:42.255193Z",
     "iopub.status.busy": "2021-01-13T09:00:42.255193Z",
     "iopub.status.idle": "2021-01-13T09:00:42.269147Z",
     "shell.execute_reply": "2021-01-13T09:00:42.266148Z",
     "shell.execute_reply.started": "2021-01-13T09:00:42.255193Z"
    }
   },
   "outputs": [],
   "source": [
    "# Чтение файла (.txt). Возвращает список строк файла\n",
    "def read_file(path_to_file: str) -> list: \n",
    "    list_of_lines = []\n",
    "    with open(path_to_file, 'r', encoding='utf-8') as file:\n",
    "        for line in file:\n",
    "            list_of_lines.append(line)\n",
    "    return list_of_lines"
   ]
  },
  {
   "cell_type": "code",
   "execution_count": 126,
   "metadata": {
    "execution": {
     "iopub.execute_input": "2021-01-13T09:00:42.623884Z",
     "iopub.status.busy": "2021-01-13T09:00:42.623884Z",
     "iopub.status.idle": "2021-01-13T09:00:42.643824Z",
     "shell.execute_reply": "2021-01-13T09:00:42.640886Z",
     "shell.execute_reply.started": "2021-01-13T09:00:42.623884Z"
    }
   },
   "outputs": [],
   "source": [
    "# Тестирующая функция №2 (10 тестов)\n",
    "def test_clean_list_of_lines():\n",
    "    assert clean_list_of_lines([]) == []\n",
    "    assert clean_list_of_lines(['']) == [[]]\n",
    "    assert clean_list_of_lines(['', '']) == [[], []]\n",
    "    assert clean_list_of_lines(['abc', 'bcd*']) == [['abc'], ['bcd']]\n",
    "    assert clean_list_of_lines(['●text text, text', 'something here ***']) == [['text', 'text', 'text'], ['something', 'here']]\n",
    "    assert clean_list_of_lines(['Сириус2021']) == [['Сириус2021']]\n",
    "    assert clean_list_of_lines(['text:\\n']) == [['text']]\n",
    "    assert clean_list_of_lines(['\\ttext']) == [['text']]\n",
    "    assert clean_list_of_lines(['text; text - text, text']) == [['text', 'text', 'text', 'text']]\n",
    "    assert clean_list_of_lines(['TeXt...']) == [['TeXt']]"
   ]
  },
  {
   "cell_type": "code",
   "execution_count": 127,
   "metadata": {
    "execution": {
     "iopub.execute_input": "2021-01-13T09:00:43.450815Z",
     "iopub.status.busy": "2021-01-13T09:00:43.449821Z",
     "iopub.status.idle": "2021-01-13T09:00:43.469766Z",
     "shell.execute_reply": "2021-01-13T09:00:43.466824Z",
     "shell.execute_reply.started": "2021-01-13T09:00:43.450815Z"
    }
   },
   "outputs": [],
   "source": [
    "# Чистка списка строк файла от символов, которые будем игнорировать. Формат вывода: список списков слов каждой строки\n",
    "def clean_list_of_lines(list_of_lines: list) -> list: \n",
    "    for i in range(len(list_of_lines)):\n",
    "        list_of_lines[i] = list_of_lines[i].replace('\\t', '')\n",
    "        list_of_lines[i] = list_of_lines[i].replace('\\r', '')\n",
    "        list_of_lines[i] = list_of_lines[i].replace('\\n', '')\n",
    "        for symbol in list_of_lines[i]:\n",
    "            if not symbol.isalnum() and not symbol == ' ':\n",
    "                list_of_lines[i] = list_of_lines[i].replace(symbol, '')\n",
    "        list_of_lines[i] = re.sub(\" +\", \" \", list_of_lines[i])\n",
    "        list_of_lines[i] = list_of_lines[i].split()\n",
    "    return list_of_lines "
   ]
  },
  {
   "cell_type": "code",
   "execution_count": 128,
   "metadata": {
    "execution": {
     "iopub.execute_input": "2021-01-13T09:00:43.943748Z",
     "iopub.status.busy": "2021-01-13T09:00:43.943748Z",
     "iopub.status.idle": "2021-01-13T09:00:43.959436Z",
     "shell.execute_reply": "2021-01-13T09:00:43.959436Z",
     "shell.execute_reply.started": "2021-01-13T09:00:43.943748Z"
    }
   },
   "outputs": [],
   "source": [
    "# Тестируем\n",
    "test_clean_list_of_lines()"
   ]
  },
  {
   "cell_type": "code",
   "execution_count": 130,
   "metadata": {
    "execution": {
     "iopub.execute_input": "2021-01-13T09:00:45.359335Z",
     "iopub.status.busy": "2021-01-13T09:00:45.359335Z",
     "iopub.status.idle": "2021-01-13T09:00:45.392979Z",
     "shell.execute_reply": "2021-01-13T09:00:45.392331Z",
     "shell.execute_reply.started": "2021-01-13T09:00:45.359335Z"
    }
   },
   "outputs": [],
   "source": [
    "# Найти и вывести словоформы с контекстом\n",
    "def find_сontext(words,  # Список слов, словоформы которых будут найдены (list)\n",
    "                 path_to_file,  # Путь до текстового файла (.txt) (str)\n",
    "                 statistics=True,  # Выводить статистику по количеству найденных слов и словоформ (bool)\n",
    "                 morphological_analysis=True,  # Выводить морфологический анализ слов (bool)\n",
    "                 filter_by_morphological_features=False  # Выводить слова, морфологические признаки которых содержат\n",
    "                                                         # все из перечиселенных в списке признаков.\n",
    "                                                         # Иначе, False (list or bool)\n",
    "                ):\n",
    "    list_of_lines = clean_list_of_lines(read_file(path_to_file))\n",
    "    all_words = []\n",
    "    for i in range(len(list_of_lines)):\n",
    "        for w in range(len(list_of_lines[i])):\n",
    "            all_words.append(list_of_lines[i][w])\n",
    "    for word in words:\n",
    "        count = 0\n",
    "        count_exactly_word = 0\n",
    "        count_forms_of_word = 0\n",
    "        for i in range(len(list_of_lines)):\n",
    "            for w in range(len(list_of_lines[i])):\n",
    "                if is_form_of_word(all_words[count], word):\n",
    "                    if (type(filter_by_morphological_features) == list and \\\n",
    "                    len(set(str(morph.parse(all_words[count])[0][1]).split(',')) & \\\n",
    "                    set(filter_by_morphological_features)) == len(set(filter_by_morphological_features))) \\\n",
    "                    or type(filter_by_morphological_features) == bool:\n",
    "                        if all_words[count].lower() == word.lower():\n",
    "                            count_exactly_word += 1\n",
    "                        else:\n",
    "                            count_forms_of_word += 1\n",
    "                        to_print = []\n",
    "                        if count >= 2:\n",
    "                            to_print.append(all_words[count - 2])\n",
    "                        if count >= 1:\n",
    "                            to_print.append(all_words[count - 1])\n",
    "                        to_print.append(all_words[count])\n",
    "                        if count <= len(all_words) - 2:\n",
    "                            to_print.append(all_words[count + 1])\n",
    "                        if count <= len(all_words) - 3:\n",
    "                            to_print.append(all_words[count + 2])\n",
    "                        print(f'>> Номер строки: {i + 1}. Контекст: ' + ' '.join(to_print))\n",
    "                        if morphological_analysis:\n",
    "                            print('Морфологические признаки: ' + ', '.join(str(morph.parse(all_words[count])[0][1]).split(',')))\n",
    "                        print('----------------------------------------------')\n",
    "                count += 1\n",
    "        if statistics:\n",
    "            print(f'Найдено {count_exactly_word} слов \"{word}\" и {count_forms_of_word} словоформ')\n",
    "        print('______________________________________________')"
   ]
  },
  {
   "cell_type": "markdown",
   "metadata": {},
   "source": [
    "### Доступные морфологические признаки можно посмотреть здесь:\n",
    "https://pymorphy2.readthedocs.io/en/stable/user/grammemes.html#grammeme-docs"
   ]
  },
  {
   "cell_type": "code",
   "execution_count": 132,
   "metadata": {
    "execution": {
     "iopub.execute_input": "2021-01-13T09:44:08.252053Z",
     "iopub.status.busy": "2021-01-13T09:44:08.252053Z",
     "iopub.status.idle": "2021-01-13T09:44:08.725354Z",
     "shell.execute_reply": "2021-01-13T09:44:08.725354Z",
     "shell.execute_reply.started": "2021-01-13T09:44:08.252053Z"
    }
   },
   "outputs": [
    {
     "name": "stdout",
     "output_type": "stream",
     "text": [
      ">> Номер строки: 6. Контекст: либо из файлов либо из\n",
      "Морфологические признаки: NOUN, inan, masc plur, gent\n",
      "----------------------------------------------\n",
      ">> Номер строки: 6. Контекст: сохранять в файлы Форматы входных\n",
      "Морфологические признаки: NOUN, inan, masc plur, accs\n",
      "----------------------------------------------\n",
      ">> Номер строки: 7. Контекст: содержать примеры файлов соответствующих форматов\n",
      "Морфологические признаки: NOUN, inan, masc plur, gent\n",
      "----------------------------------------------\n",
      ">> Номер строки: 11. Контекст: сопровождаться документацией файл READMEmd в\n",
      "Морфологические признаки: NOUN, inan, masc sing, nomn\n",
      "----------------------------------------------\n",
      ">> Номер строки: 27. Контекст: Дан текстовый файл содержащий текст\n",
      "Морфологические признаки: NOUN, inan, masc sing, nomn\n",
      "----------------------------------------------\n",
      ">> Номер строки: 27. Контекст: строки в файле игнорируя знаки\n",
      "Морфологические признаки: NOUN, inan, masc sing, loct\n",
      "----------------------------------------------\n",
      ">> Номер строки: 27. Контекст: В качестве файлов для тестирования\n",
      "Морфологические признаки: NOUN, inan, masc plur, gent\n",
      "----------------------------------------------\n",
      ">> Номер строки: 27. Контекст: подходят текстовые файлы с сайта\n",
      "Морфологические признаки: NOUN, inan, masc plur, accs\n",
      "----------------------------------------------\n",
      "Найдено 2 слов \"файл\" и 6 словоформ\n",
      "______________________________________________\n",
      ">> Номер строки: 7. Контекст: в файлы Форматы входных данных\n",
      "Морфологические признаки: NOUN, inan, masc plur, accs\n",
      "----------------------------------------------\n",
      ">> Номер строки: 7. Контекст: файлов соответствующих форматов Решение о\n",
      "Морфологические признаки: NOUN, inan, masc plur, gent\n",
      "----------------------------------------------\n",
      ">> Номер строки: 15. Контекст: использования программы форматы входных данных\n",
      "Морфологические признаки: NOUN, inan, masc plur, accs\n",
      "----------------------------------------------\n",
      ">> Номер строки: 27. Контекст: текст свободного формата на русском\n",
      "Морфологические признаки: NOUN, inan, masc sing, gent\n",
      "----------------------------------------------\n",
      "Найдено 0 слов \"формат\" и 4 словоформ\n",
      "______________________________________________\n"
     ]
    }
   ],
   "source": [
    "# Пример использования\n",
    "find_сontext(['файл', 'формат'],\n",
    "              'tests/test1.txt', \n",
    "               statistics=True,\n",
    "               morphological_analysis=True,\n",
    "               filter_by_morphological_features=False)"
   ]
  },
  {
   "cell_type": "code",
   "execution_count": 138,
   "metadata": {
    "execution": {
     "iopub.execute_input": "2021-01-13T09:45:44.559832Z",
     "iopub.status.busy": "2021-01-13T09:45:44.558834Z",
     "iopub.status.idle": "2021-01-13T09:45:45.866774Z",
     "shell.execute_reply": "2021-01-13T09:45:45.866774Z",
     "shell.execute_reply.started": "2021-01-13T09:45:44.559832Z"
    }
   },
   "outputs": [
    {
     "name": "stdout",
     "output_type": "stream",
     "text": [
      ">> Номер строки: 38. Контекст: Была бы душа жива Украдкой\n",
      "Морфологические признаки: NOUN, inan, femn sing, nomn\n",
      "----------------------------------------------\n",
      "Найдено 1 слов \"душа\" и 0 словоформ\n",
      "______________________________________________\n"
     ]
    }
   ],
   "source": [
    "find_сontext(['душа'],\n",
    "              'tests/test2.txt', \n",
    "               statistics=True,\n",
    "               morphological_analysis=True,\n",
    "               filter_by_morphological_features=['NOUN', 'nomn'])"
   ]
  },
  {
   "cell_type": "code",
   "execution_count": 139,
   "metadata": {
    "execution": {
     "iopub.execute_input": "2021-01-13T09:47:51.549119Z",
     "iopub.status.busy": "2021-01-13T09:47:51.548154Z",
     "iopub.status.idle": "2021-01-13T09:47:52.788723Z",
     "shell.execute_reply": "2021-01-13T09:47:52.788723Z",
     "shell.execute_reply.started": "2021-01-13T09:47:51.549119Z"
    }
   },
   "outputs": [
    {
     "name": "stdout",
     "output_type": "stream",
     "text": [
      ">> Номер строки: 13. Контекст: железом У каждого сад и\n",
      "----------------------------------------------\n",
      ">> Номер строки: 14. Контекст: гумно У каждого крашены ставни\n",
      "----------------------------------------------\n",
      ">> Номер строки: 318. Контекст: стеречь У каждого хата гнилая\n",
      "----------------------------------------------\n",
      ">> Номер строки: 349. Контекст: других И каждый с улыбкой\n",
      "----------------------------------------------\n",
      "Найдено 1 слов \"каждый\" и 3 словоформ\n",
      "______________________________________________\n"
     ]
    }
   ],
   "source": [
    "find_сontext(['каждый'],\n",
    "              'tests/test2.txt', \n",
    "               statistics=True,\n",
    "               morphological_analysis=False,\n",
    "               filter_by_morphological_features=False)"
   ]
  }
 ],
 "metadata": {
  "kernelspec": {
   "display_name": "sirius",
   "language": "python",
   "name": "sirius"
  },
  "language_info": {
   "codemirror_mode": {
    "name": "ipython",
    "version": 3
   },
   "file_extension": ".py",
   "mimetype": "text/x-python",
   "name": "python",
   "nbconvert_exporter": "python",
   "pygments_lexer": "ipython3",
   "version": "3.7.5"
  }
 },
 "nbformat": 4,
 "nbformat_minor": 4
}
